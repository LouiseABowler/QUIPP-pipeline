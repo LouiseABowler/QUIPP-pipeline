{
 "cells": [
  {
   "cell_type": "markdown",
   "metadata": {},
   "source": [
    "# Microsimulation with the `humanleague` package\n",
    "\n",
    "The `humanleague` package contains implementations of iterative propotional fitting and quasirandom integer without-replacement sampling algorithms.\n",
    "\n",
    "We'll begin by following the first stage of an example of population generation set out in \"Microsimulation for Demography\" (Lomax and Smith, 2017). The aim is to generate a representative population of 254,096 people who each have the following properties: MSOA (area; see below), sex, age in years, and ethnicity. In the paper, the generated population is then used to perform a dynamic microsimulation of the population through time (fertility and mortality rates are applied based on individuals' characterstics). Here, we'll focus on the first, static, microsimulation where the population is generated from two datasets that cannot be directly combined.\n",
    "\n",
    "To do this, we will combine the two datasets from the 2011 census using both iterative proportional fitting and quasirandom integer sampling. The `humanleague` package implements these algorithms in C++, which can be accessed through either Python or R."
   ]
  },
  {
   "cell_type": "markdown",
   "metadata": {},
   "source": [
    "## Methods used in this notebook\n",
    "\n",
    "### Quasirandom integer without-replacement sampling\n",
    "\n",
    "### Iterative proportional fitting"
   ]
  },
  {
   "cell_type": "markdown",
   "metadata": {},
   "source": [
    "## Tower Hamlets example"
   ]
  },
  {
   "cell_type": "code",
   "execution_count": null,
   "metadata": {},
   "outputs": [],
   "source": [
    "import humanleague\n",
    "import numpy as np\n",
    "import os\n",
    "import pandas as pd\n",
    "import urllib.request"
   ]
  },
  {
   "cell_type": "markdown",
   "metadata": {},
   "source": [
    "The two datasets we use here contain data from MSOAs within the London Borough of Tower Hamlets. An MSOA is a Middle-layer Super Output Area - a region that has a population of approximately 7000 people. An MSOA is one of several output areas in the following heirarchy:\n",
    "- Output Area, OA, average population ~300\n",
    "- Lower-layer Super Output Area, LSOA, population ~1000-3000\n",
    "- Middle-layer Super Output Area, MSOA, population ~5000-15,000\n",
    "\n",
    "The data we use here come from two tables from the 2011 UK Census:\n",
    "- DC2101EW: Ethnic group by sex and age band\n",
    "- DC117EW: Sex by age in years\n",
    "\n",
    "The files we use here are preprocessed versions of the above, taken from the GitHub repository associated with Lomax and Smith (2017)."
   ]
  },
  {
   "cell_type": "markdown",
   "metadata": {},
   "source": [
    "### Load the data\n",
    "\n",
    "First, let's check whether the data files are already available, and download them if not."
   ]
  },
  {
   "cell_type": "code",
   "execution_count": null,
   "metadata": {},
   "outputs": [],
   "source": [
    "current_dir = %pwd\n",
    "data_dir = os.path.join(current_dir, \"..\", \"..\", \"datasets\", \"tower-hamlets\")\n",
    "if not os.path.isdir(data_dir):\n",
    "    print(\"Tower Hamlets data folder is not present; creating...\")\n",
    "    os.mkdir(data_dir)\n",
    "    \n",
    "if not os.path.exists(os.path.join(data_dir, \"sexAgeEth.csv\")):\n",
    "    print(\"Downloading sexAgeEth.csv...\")\n",
    "    urllib.request.urlretrieve(\"https://raw.githubusercontent.com/virgesmith/demographyMicrosim/master/data/sexAgeEth.csv\",\n",
    "                               os.path.join(data_dir, \"sexAgeEth.csv\"))\n",
    "    \n",
    "if not os.path.exists(os.path.join(data_dir, \"sexAgeYear.csv\")):\n",
    "    print(\"Downloading sexAgeYear.csv...\")\n",
    "    urllib.request.urlretrieve(\"https://raw.githubusercontent.com/virgesmith/demographyMicrosim/master/data/sexAgeYear.csv\",\n",
    "                               os.path.join(data_dir, \"sexAgeYear.csv\"))"
   ]
  },
  {
   "cell_type": "markdown",
   "metadata": {},
   "source": [
    "Our first set of constraints are given in the \"ageSexEth.csv\" file. This file contains counts of the numbers of people who are resident in each MSOA by their sex, age band and ethnicity."
   ]
  },
  {
   "cell_type": "code",
   "execution_count": null,
   "metadata": {},
   "outputs": [],
   "source": [
    "con_ethBySexAgeBand = pd.read_csv(os.path.join(data_dir, \"sexAgeEth.csv\"), sep=\";\")\n",
    "con_ethBySexAgeBand.head()"
   ]
  },
  {
   "cell_type": "markdown",
   "metadata": {},
   "source": [
    "We also have a second set of contstraints, which we load from the \"sexAgeYear.csv\" file. These records are lacking an ethnicity attribute, but the exact age is known."
   ]
  },
  {
   "cell_type": "code",
   "execution_count": null,
   "metadata": {},
   "outputs": [],
   "source": [
    "con_ageBySex = pd.read_csv(os.path.join(data_dir, \"sexAgeYear.csv\"), sep=\";\")\n",
    "con_ageBySex.head()"
   ]
  },
  {
   "cell_type": "markdown",
   "metadata": {},
   "source": [
    "We'll need a way to convert between the exact age and the age bands, so let's define a utility function to do so here:"
   ]
  },
  {
   "cell_type": "code",
   "execution_count": null,
   "metadata": {},
   "outputs": [],
   "source": [
    "def get_age_bounds(age_band):\n",
    "    ab_limits = age_band.split(\"-\")\n",
    "            \n",
    "    if len(ab_limits) == 2:\n",
    "        lower_age = int(ab_limits[0])\n",
    "        upper_age = int(ab_limits[1])\n",
    "    elif len(ab_limits) == 1:\n",
    "        if \"+\" in ab_limits[0]:\n",
    "            lower_age = int(ab_limits[0].strip(\"+\"))\n",
    "            upper_age = 999\n",
    "        else:\n",
    "            lower_age = int(ab_limits[0])\n",
    "            upper_age = int(ab_limits[0])  \n",
    "    else:\n",
    "        raise Exception(\"Cannot work out upper and lower limits for age\")\n",
    "        \n",
    "    return {\"lower\": lower_age, \"upper\": upper_age}"
   ]
  },
  {
   "cell_type": "markdown",
   "metadata": {},
   "source": [
    "Let's also identify the unique values of MSOA, sex and age band. We'll need to perform the microsimulation for each of these stages separately."
   ]
  },
  {
   "cell_type": "code",
   "execution_count": null,
   "metadata": {},
   "outputs": [],
   "source": [
    "msoa = con_ethBySexAgeBand[\"MSOA\"].unique()\n",
    "sex = con_ethBySexAgeBand[\"Sex\"].unique()\n",
    "ageband = con_ethBySexAgeBand[\"AgeBand\"].unique()"
   ]
  },
  {
   "cell_type": "markdown",
   "metadata": {},
   "source": [
    "### Perform microsimulation with QIS\n",
    "\n",
    "The code below is based very closely on the code from Lomax and Smith (2017). There have been some major changes to the functions available in the `humanleague` package since the paper was released, which should make the following steps less complicated - but for now, we'll stick to the original method as closely as possible to reduce potential error.\n",
    "\n",
    "(To do: remove some of the loops to use `qis` as intended, and compare.)"
   ]
  },
  {
   "cell_type": "code",
   "execution_count": null,
   "metadata": {},
   "outputs": [],
   "source": [
    "qis_synthetic = pd.DataFrame(columns=[\"MSOA\", \"Age\", \"Sex\", \"Ethnicity\", \"Persons\"])\n",
    "\n",
    "for m in msoa:\n",
    "    for s in sex:\n",
    "        for ab in ageband:\n",
    "            \n",
    "            age_limits = get_age_bounds(ab)\n",
    "            \n",
    "            # Find the marginal labels: these are the properties for which we will generate a population in this loop\n",
    "            ml_eth = con_ethBySexAgeBand.loc[(con_ethBySexAgeBand[\"MSOA\"] == m) &\n",
    "                                             (con_ethBySexAgeBand[\"Sex\"] == s) &\n",
    "                                             (con_ethBySexAgeBand[\"AgeBand\"] == ab)][\"Ethnicity\"]\n",
    "            ml_age = con_ageBySex.loc[(con_ageBySex[\"MSOA\"] == m) &\n",
    "                                      (con_ageBySex[\"Sex\"] == s) &\n",
    "                                      (con_ageBySex[\"Age\"] >= age_limits[\"lower\"]) &\n",
    "                                      (con_ageBySex[\"Age\"] <= age_limits[\"upper\"])][\"Age\"]\n",
    "            \n",
    "            # Now find the marginal frequencies: these are the numbers of people with these properties\n",
    "            mf_eth = con_ethBySexAgeBand.loc[(con_ethBySexAgeBand[\"MSOA\"] == m) &\n",
    "                                             (con_ethBySexAgeBand[\"Sex\"] == s) &\n",
    "                                             (con_ethBySexAgeBand[\"AgeBand\"] == ab)][\"Persons\"]\n",
    "            mf_age = con_ageBySex.loc[(con_ageBySex[\"MSOA\"] == m) &\n",
    "                                      (con_ageBySex[\"Sex\"] == s) &\n",
    "                                      (con_ageBySex[\"Age\"] >= age_limits[\"lower\"]) &\n",
    "                                      (con_ageBySex[\"Age\"] <= age_limits[\"upper\"])][\"Persons\"]            \n",
    "            \n",
    "            # Only perform the microsim step if there are some records with this combination of MSOA, sex and eth\n",
    "            if sum(mf_eth) > 0:\n",
    "                # The result that we're given back here contains frequencies\n",
    "                # for each combination of age (column) and ethnicity (row)\n",
    "                res = humanleague.qis([np.array([0]), np.array([1])], [mf_eth.to_numpy(), mf_age.to_numpy()])\n",
    "                \n",
    "                # Reorganise the output, add MSOA and Sex and rearrange to match format of storage dataframe\n",
    "                synth = pd.DataFrame.from_records(res[\"result\"], index=ml_eth, columns=ml_age)\n",
    "                synth = synth.unstack().reset_index()\n",
    "                synth.columns.values[2] = \"Persons\"\n",
    "                synth[\"MSOA\"] = m\n",
    "                synth[\"Sex\"] = s\n",
    "                synth = synth[qis_synthetic.columns.values]\n",
    "                \n",
    "                # Append the synthetic data for this MSOA/sex combination to the storage dataframe\n",
    "                qis_synthetic = qis_synthetic.append(synth)"
   ]
  },
  {
   "cell_type": "markdown",
   "metadata": {},
   "source": [
    "### Perform microsimulation with IPF"
   ]
  },
  {
   "cell_type": "code",
   "execution_count": null,
   "metadata": {},
   "outputs": [],
   "source": []
  }
 ],
 "metadata": {
  "kernelspec": {
   "display_name": "Python 3",
   "language": "python",
   "name": "python3"
  },
  "language_info": {
   "codemirror_mode": {
    "name": "ipython",
    "version": 3
   },
   "file_extension": ".py",
   "mimetype": "text/x-python",
   "name": "python",
   "nbconvert_exporter": "python",
   "pygments_lexer": "ipython3",
   "version": "3.6.9"
  }
 },
 "nbformat": 4,
 "nbformat_minor": 2
}
